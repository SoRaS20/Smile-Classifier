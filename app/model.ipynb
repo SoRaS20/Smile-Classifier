{
 "cells": [
  {
   "cell_type": "code",
   "execution_count": 2,
   "metadata": {},
   "outputs": [
    {
     "name": "stderr",
     "output_type": "stream",
     "text": [
      "<>:39: SyntaxWarning: invalid escape sequence '\\d'\n",
      "<>:39: SyntaxWarning: invalid escape sequence '\\d'\n",
      "C:\\Users\\BJIT\\AppData\\Local\\Temp\\ipykernel_12804\\521127211.py:39: SyntaxWarning: invalid escape sequence '\\d'\n",
      "  dataset_path = \"..\\dataset\"\n"
     ]
    },
    {
     "name": "stdout",
     "output_type": "stream",
     "text": [
      "Loading and preprocessing data...\n",
      "Data split into training and testing sets.\n",
      "Training the SVM model...\n",
      "Evaluating the model...\n",
      "Accuracy: 0.84\n",
      "Saving the model to smile_classifier.pkl...\n",
      "Model training and saving complete.\n"
     ]
    }
   ],
   "source": [
    "from sklearn.svm import SVC\n",
    "from sklearn.model_selection import train_test_split\n",
    "from sklearn.metrics import accuracy_score\n",
    "import pickle\n",
    "import os\n",
    "from PIL import Image\n",
    "import numpy as np\n",
    "\n",
    "def preprocess_images(image_dir, size=(64, 64)):\n",
    "    \"\"\"\n",
    "    Preprocesses images by resizing, converting to grayscale, and flattening them into feature arrays.\n",
    "\n",
    "    Args:\n",
    "        image_dir (str): Path to the dataset directory containing 'smile' and 'non_smile' folders.\n",
    "        size (tuple): Desired size to resize images to.\n",
    "\n",
    "    Returns:\n",
    "        np.array: Feature arrays for all images.\n",
    "        np.array: Corresponding labels (1 for 'smile', 0 for 'non_smile').\n",
    "    \"\"\"\n",
    "    images, labels = [], []\n",
    "    for label in ['smile', 'non_smile']:\n",
    "        folder = os.path.join(image_dir, label)\n",
    "        if not os.path.exists(folder):\n",
    "            print(f\"Directory not found: {folder}\")\n",
    "            continue\n",
    "        for filename in os.listdir(folder):\n",
    "            img_path = os.path.join(folder, filename)\n",
    "            try:\n",
    "                image = Image.open(img_path).convert('L').resize(size)\n",
    "                features = np.array(image).flatten()\n",
    "                images.append(features)\n",
    "                labels.append(1 if label == 'smile' else 0)\n",
    "            except Exception as e:\n",
    "                print(f\"Error processing file {img_path}: {e}\")\n",
    "    return np.array(images), np.array(labels)\n",
    "\n",
    "# Path to the dataset\n",
    "dataset_path = \"..\\dataset\"\n",
    "\n",
    "# Load and preprocess the data\n",
    "print(\"Loading and preprocessing data...\")\n",
    "X, y = preprocess_images(dataset_path)\n",
    "\n",
    "# Check if dataset was loaded correctly\n",
    "if len(X) == 0 or len(y) == 0:\n",
    "    raise ValueError(\"No data was loaded. Please check your dataset path and format.\")\n",
    "\n",
    "# Split the dataset into training and testing sets\n",
    "X_train, X_test, y_train, y_test = train_test_split(X, y, test_size=0.2, random_state=42)\n",
    "print(\"Data split into training and testing sets.\")\n",
    "\n",
    "# Train the SVM model\n",
    "print(\"Training the SVM model...\")\n",
    "model = SVC(kernel='linear', probability=True)\n",
    "model.fit(X_train, y_train)\n",
    "\n",
    "# Evaluate the model\n",
    "print(\"Evaluating the model...\")\n",
    "y_pred = model.predict(X_test)\n",
    "accuracy = accuracy_score(y_test, y_pred)\n",
    "print(f\"Accuracy: {accuracy:.2f}\")\n",
    "\n",
    "# Save the trained model\n",
    "model_filename = 'smile_classifier.pkl'\n",
    "print(f\"Saving the model to {model_filename}...\")\n",
    "with open(model_filename, 'wb') as f:\n",
    "    pickle.dump(model, f)\n",
    "\n",
    "print(\"Model training and saving complete.\")\n"
   ]
  },
  {
   "cell_type": "code",
   "execution_count": 6,
   "metadata": {},
   "outputs": [],
   "source": [
    "import pickle\n",
    "from PIL import Image\n",
    "import numpy as np\n",
    "\n",
    "# Load the model\n",
    "with open('smile_classifier.pkl', 'rb') as f:\n",
    "    model = pickle.load(f)\n",
    "\n",
    "def classify_image(image_path, size=(64, 64)):\n",
    "    image = Image.open(image_path).convert('L').resize(size)\n",
    "    features = np.array(image).flatten().reshape(1, -1)\n",
    "    prediction = model.predict(features)\n",
    "    return \"smile\" if prediction[0] == 1 else \"non_smile\"\n"
   ]
  }
 ],
 "metadata": {
  "kernelspec": {
   "display_name": "myenv",
   "language": "python",
   "name": "python3"
  },
  "language_info": {
   "codemirror_mode": {
    "name": "ipython",
    "version": 3
   },
   "file_extension": ".py",
   "mimetype": "text/x-python",
   "name": "python",
   "nbconvert_exporter": "python",
   "pygments_lexer": "ipython3",
   "version": "3.13.0"
  }
 },
 "nbformat": 4,
 "nbformat_minor": 2
}
